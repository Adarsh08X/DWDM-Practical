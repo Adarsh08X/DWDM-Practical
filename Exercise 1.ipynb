{
 "cells": [
  {
   "cell_type": "code",
   "execution_count": 1,
   "metadata": {},
   "outputs": [
    {
     "data": {
      "text/plain": [
       "25"
      ]
     },
     "execution_count": 1,
     "metadata": {},
     "output_type": "execute_result"
    }
   ],
   "source": [
    "#Question 1\n",
    "10 + 15"
   ]
  },
  {
   "cell_type": "code",
   "execution_count": 2,
   "metadata": {},
   "outputs": [
    {
     "name": "stdout",
     "output_type": "stream",
     "text": [
      "Hello World\n"
     ]
    }
   ],
   "source": [
    "#Question 2\n",
    "print(\"Hello World\") "
   ]
  },
  {
   "cell_type": "code",
   "execution_count": 3,
   "metadata": {},
   "outputs": [
    {
     "data": {
      "text/plain": [
       "11"
      ]
     },
     "execution_count": 3,
     "metadata": {},
     "output_type": "execute_result"
    }
   ],
   "source": [
    "#Question 3\n",
    "45 - 34"
   ]
  },
  {
   "cell_type": "code",
   "execution_count": 4,
   "metadata": {},
   "outputs": [
    {
     "data": {
      "text/plain": [
       "16"
      ]
     },
     "execution_count": 4,
     "metadata": {},
     "output_type": "execute_result"
    }
   ],
   "source": [
    "#Question 4\n",
    "8 * 2"
   ]
  },
  {
   "cell_type": "code",
   "execution_count": 5,
   "metadata": {},
   "outputs": [
    {
     "name": "stdout",
     "output_type": "stream",
     "text": [
      "Rahul's age is 45\n"
     ]
    }
   ],
   "source": [
    "#Question 5\n",
    "print(\"Rahul's age is\", 45)"
   ]
  },
  {
   "cell_type": "code",
   "execution_count": 6,
   "metadata": {},
   "outputs": [
    {
     "name": "stdout",
     "output_type": "stream",
     "text": [
      "I have 10 mangoes and 12 bananas\n"
     ]
    }
   ],
   "source": [
    "#Question 6\n",
    "print(\"I have\", 10, \"mangoes and\", 12, \"bananas\")"
   ]
  },
  {
   "cell_type": "code",
   "execution_count": 7,
   "metadata": {},
   "outputs": [
    {
     "name": "stdout",
     "output_type": "stream",
     "text": [
      "Employee Number: 1233\n",
      "Employee Salary and Name: 16745.5 Jerry Squaris\n",
      "Updated Employee Salary: 23450.34\n"
     ]
    }
   ],
   "source": [
    "#Question 7\n",
    "emp_number = 1233\n",
    "print(\"Employee Number:\", emp_number)\n",
    "emp_salary = 16745.50\n",
    "emp_name = \"Jerry Squaris\"\n",
    "print(\"Employee Salary and Name:\", emp_salary, emp_name)\n",
    "emp_salary = 23450.34\n",
    "print(\"Updated Employee Salary:\", emp_salary)"
   ]
  },
  {
   "cell_type": "code",
   "execution_count": 8,
   "metadata": {},
   "outputs": [
    {
     "name": "stdout",
     "output_type": "stream",
     "text": [
      "101 John 675.45\n",
      "5.3\n",
      "3.9\n"
     ]
    }
   ],
   "source": [
    "#Question 8\n",
    "customer_id = 101\n",
    "type(customer_id)\n",
    "customer_name = \"John\"\n",
    "type(customer_name)\n",
    "bill_amount = 675.45\n",
    "type(bill_amount )\n",
    "x = 5.3 + 0.9j\n",
    "type(x)\n",
    "print(customer_id, customer_name, bill_amount)\n",
    "print(x.real)\n",
    "print(x.imag + 3)\n",
    "Flag = True\n",
    "type(Flag)\n",
    "y = \"False\""
   ]
  },
  {
   "cell_type": "code",
   "execution_count": 23,
   "metadata": {},
   "outputs": [
    {
     "name": "stdout",
     "output_type": "stream",
     "text": [
      "Bill ID   Customer ID   Name    Minor   Total Payment\n",
      "101          1001       Rahul    No      2000.5\n"
     ]
    }
   ],
   "source": [
    "#Question 9\n",
    "bill_id = 101\n",
    "customer_id = 1001\n",
    "customer_name = \"Rahul\"\n",
    "if_minor = False\n",
    "bill_amount = 2000.50\n",
    "print(\"Bill ID   Customer ID   Name    Minor   Total Payment\")\n",
    "print(bill_id,\"        \",customer_id,\"     \",customer_name,\"  \",\"No\",\"    \",bill_amount)"
   ]
  },
  {
   "cell_type": "code",
   "execution_count": 28,
   "metadata": {},
   "outputs": [
    {
     "name": "stdout",
     "output_type": "stream",
     "text": [
      "Enter first number= 2\n",
      "Enter second number= 5\n",
      "Sum of new values=  17\n"
     ]
    }
   ],
   "source": [
    "#Question 10\n",
    "num1 = int(input(\"Enter first number= \"))\n",
    "num2 = int(input(\"Enter second number= \"))\n",
    "num1+=4\n",
    "num2+=6\n",
    "print(\"Sum of new values= \",num1+num2)"
   ]
  },
  {
   "cell_type": "code",
   "execution_count": 29,
   "metadata": {},
   "outputs": [
    {
     "name": "stdout",
     "output_type": "stream",
     "text": [
      "Before Swap=>  4   5\n",
      "After Swap=>  5   4\n"
     ]
    }
   ],
   "source": [
    "#Question 11\n",
    "a=int(4)\n",
    "b=int(5)\n",
    "c=a\n",
    "d=b\n",
    "a , b = b , a\n",
    "print(\"Before Swap=> \",c,\" \",d)\n",
    "print(\"After Swap=> \",a,\" \",b)"
   ]
  },
  {
   "cell_type": "code",
   "execution_count": 31,
   "metadata": {},
   "outputs": [
    {
     "name": "stdout",
     "output_type": "stream",
     "text": [
      "Enter marks of first subject= 89\n",
      "Enter marks of second subject= 75\n",
      "Enter marks of third subject= 68\n",
      "Average before changing marks=  77.33333333333333\n",
      "Average after changing marks=  77.33333333333333\n"
     ]
    }
   ],
   "source": [
    "#Question 12\n",
    "a = int(input(\"Enter marks of first subject= \"))\n",
    "b = int(input(\"Enter marks of second subject= \"))\n",
    "c = int(input(\"Enter marks of third subject= \"))\n",
    "avg = (a+b+c)/3\n",
    "print(\"Average before changing marks= \",avg)\n",
    "a+=2\n",
    "print(\"Average after changing marks= \",avg)"
   ]
  },
  {
   "cell_type": "code",
   "execution_count": 32,
   "metadata": {},
   "outputs": [
    {
     "name": "stdout",
     "output_type": "stream",
     "text": [
      "Enter the radius of circle= 7\n",
      "Area of the cicle= 153.86\n",
      "Perimeter of the circle=  43.96\n"
     ]
    }
   ],
   "source": [
    "#Question 13\n",
    "radius = int(input(\"Enter the radius of circle= \"))\n",
    "area= 3.14*radius*radius\n",
    "perimeter = 2*3.14*radius\n",
    "print(\"Area of the cicle=\",area)\n",
    "print(\"Perimeter of the circle= \",perimeter)"
   ]
  },
  {
   "cell_type": "code",
   "execution_count": 35,
   "metadata": {},
   "outputs": [
    {
     "name": "stdout",
     "output_type": "stream",
     "text": [
      "Salary of the employee is=  64000\n"
     ]
    }
   ],
   "source": [
    "#Question 14\n",
    "hours_per_week = int(40)\n",
    "hourly_pay_rate = int(400)\n",
    "weeks = int(4)\n",
    "salary = hours_per_week*hourly_pay_rate*weeks\n",
    "print(\"Salary of the employee is= \",salary)"
   ]
  },
  {
   "cell_type": "code",
   "execution_count": 36,
   "metadata": {},
   "outputs": [
    {
     "name": "stdout",
     "output_type": "stream",
     "text": [
      "50\n",
      "52\n",
      "54\n",
      "56\n",
      "58\n",
      "60\n",
      "62\n",
      "64\n",
      "66\n",
      "68\n",
      "70\n",
      "72\n",
      "74\n",
      "76\n",
      "78\n",
      "80\n"
     ]
    }
   ],
   "source": [
    "#Question 15- a\n",
    "for i in range(50,81):\n",
    "    if i%2 == 0:\n",
    "        print(i)\n"
   ]
  },
  {
   "cell_type": "code",
   "execution_count": 42,
   "metadata": {},
   "outputs": [
    {
     "name": "stdout",
     "output_type": "stream",
     "text": [
      "Enter a natural number= 10\n",
      "Sum of first 10 natural numbers= 55\n"
     ]
    }
   ],
   "source": [
    "#Question 15- b\n",
    "n = int(input(\"Enter a natural number= \"))\n",
    "sum =int(n*(n+1)/2)\n",
    "print(\"Sum of first\",n,\"natural numbers=\",sum)"
   ]
  },
  {
   "cell_type": "code",
   "execution_count": null,
   "metadata": {},
   "outputs": [],
   "source": [
    "#Question 15- c\n",
    "n = int(input(\"Enter a number=\"))\n",
    "flag = 0\n",
    "for i in range(2,n):\n",
    "    if n%i == 0:\n",
    "        print(\"Given number is not prime\")\n",
    "        flag=1\n",
    "        break\n",
    "if flag==0:\n",
    "    print(\"Given number is prime\")"
   ]
  },
  {
   "cell_type": "code",
   "execution_count": 12,
   "metadata": {},
   "outputs": [
    {
     "name": "stdout",
     "output_type": "stream",
     "text": [
      "Enter a number= 7\n",
      "Fibbonacci series till 7 is=\n",
      "0\n",
      "1\n",
      "1\n",
      "2\n",
      "3\n",
      "5\n",
      "8\n"
     ]
    }
   ],
   "source": [
    "#Question 15- d\n",
    "n = int(input(\"Enter a number= \"))\n",
    "a = 0\n",
    "b = 1\n",
    "l=[0,1]\n",
    "for i in range (2,n):\n",
    "    cur=a+b\n",
    "    a=b\n",
    "    b=cur\n",
    "    l.append(cur)\n",
    "print(\"Fibbonacci series till\",n,\"is=\")\n",
    "for i in l: \n",
    "    print(i)"
   ]
  },
  {
   "cell_type": "code",
   "execution_count": null,
   "metadata": {},
   "outputs": [],
   "source": []
  }
 ],
 "metadata": {
  "kernelspec": {
   "display_name": "Python 3",
   "language": "python",
   "name": "python3"
  },
  "language_info": {
   "codemirror_mode": {
    "name": "ipython",
    "version": 3
   },
   "file_extension": ".py",
   "mimetype": "text/x-python",
   "name": "python",
   "nbconvert_exporter": "python",
   "pygments_lexer": "ipython3",
   "version": "3.7.4"
  }
 },
 "nbformat": 4,
 "nbformat_minor": 4
}
