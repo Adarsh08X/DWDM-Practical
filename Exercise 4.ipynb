{
 "cells": [
  {
   "cell_type": "code",
   "execution_count": 14,
   "metadata": {
    "scrolled": true
   },
   "outputs": [
    {
     "name": "stdout",
     "output_type": "stream",
     "text": [
      "Number of students= 5\n",
      "Enter Biodata= Tom 19 80\n",
      "Enter Biodata= John 20 90\n",
      "Enter Biodata= Jony 17 91\n",
      "Enter Biodata= Jony 17 93\n",
      "Enter Biodata= Json 21 85\n"
     ]
    },
    {
     "data": {
      "text/plain": [
       "[['John', '20', '90'],\n",
       " ['Jony', '17', '91'],\n",
       " ['Jony', '17', '93'],\n",
       " ['Json', '21', '85'],\n",
       " ['Tom', '19', '80']]"
      ]
     },
     "execution_count": 14,
     "metadata": {},
     "output_type": "execute_result"
    }
   ],
   "source": [
    "#Question 1\n",
    "n=int(input(\"Number of students= \"))\n",
    "t = []\n",
    "for i in range(0,n):\n",
    "    tup = [item for item in input(\"Enter Biodata= \").split()]\n",
    "    t.append(tup)\n",
    "t=tuple(t)\n",
    "sorted(t)"
   ]
  },
  {
   "cell_type": "code",
   "execution_count": 1,
   "metadata": {},
   "outputs": [
    {
     "name": "stdout",
     "output_type": "stream",
     "text": [
      "Enter The sentnce= Train Bus Bus Train Taxi Aeroplane Taxi Bus\n",
      "Frequency of Train is : 2\n",
      "Frequency of Bus is : 3\n",
      "Frequency of Taxi is : 2\n",
      "Frequency of Aeroplane is : 1\n"
     ]
    }
   ],
   "source": [
    "#Question 2\n",
    "s = input(\"Enter The sentnce= \")\n",
    "s = s.split()         \n",
    "str2 = []\n",
    "  \n",
    "# loop till string values present in list str\n",
    "for i in s:             \n",
    "     if i not in str2:\n",
    "        str2.append(i)       \n",
    "for i in range(0, len(str2)):  \n",
    "        print('Frequency of', str2[i], 'is :', s.count(str2[i]))\n"
   ]
  },
  {
   "cell_type": "code",
   "execution_count": 11,
   "metadata": {},
   "outputs": [
    {
     "name": "stdout",
     "output_type": "stream",
     "text": [
      "Name   Total Marks\n",
      "Avish     188\n",
      "Bhavya     138\n",
      "Tanya     148\n",
      "Adarsh     200\n"
     ]
    }
   ],
   "source": [
    "#Question 3\n",
    "student = { 'UE183001': 'Avish', 'UE183002': 'Bhavya', 'UE183003': 'Tanya','UE188006': 'Adarsh'}\n",
    "marks = [('UE183001', 'CS', 94 ), ('UE183002', 'CS', 64 ),\n",
    "         ('UE183001', 'RV', 94), ('UE183002', 'RV',74),\n",
    "         ('UE183003', 'CS', 64), ('UE188006', 'CS', 100),\n",
    "         ('UE183003', 'RV', 84), ('UE188006', 'RV', 100),]\n",
    "print(\"Name   Total Marks\")\n",
    "for i in student:\n",
    "    total_marks=0\n",
    "    for j in marks:\n",
    "        if j[0]==i:\n",
    "            total_marks+=j[2]\n",
    "    print(student[i],\"   \",total_marks)"
   ]
  },
  {
   "cell_type": "code",
   "execution_count": 15,
   "metadata": {},
   "outputs": [
    {
     "name": "stdout",
     "output_type": "stream",
     "text": [
      "Enter the date= 8-MAR-85\n",
      "(1985, 3, 8)\n"
     ]
    }
   ],
   "source": [
    "#Question 4\n",
    "index = {'JAN':1,'FEB':2,'MAR':3,'APR':4,'MAY':5,'JUN':6,'JUL':7,'AUG':8,'SEP':9,'OCT':10,'NOV':11,'DEC':12}\n",
    "def converter(date):\n",
    "    date = date.split('-')\n",
    "    date[2]=int(date[2])\n",
    "    if(date[2]>21):\n",
    "        date[2]+=1900\n",
    "    else:\n",
    "        date[2]+=20\n",
    "    return (int(date[2]),index[date[1]],int(date[0]))\n",
    "date=input(\"Enter the date= \")\n",
    "print(converter(date))\n"
   ]
  },
  {
   "cell_type": "code",
   "execution_count": 25,
   "metadata": {},
   "outputs": [
    {
     "name": "stdout",
     "output_type": "stream",
     "text": [
      "2 [(1, 1)]\n",
      "3 [(1, 2), (2, 1)]\n",
      "4 [(1, 3), (2, 2), (3, 1)]\n",
      "5 [(1, 4), (2, 3), (3, 2), (4, 1)]\n",
      "6 [(1, 5), (2, 4), (3, 3), (4, 2), (5, 1)]\n",
      "7 [(1, 6), (2, 5), (3, 4), (4, 3), (5, 2), (6, 1)]\n",
      "8 [(2, 6), (3, 5), (4, 4), (5, 3), (6, 2)]\n",
      "9 [(3, 6), (4, 5), (5, 4), (6, 3)]\n",
      "10 [(4, 6), (5, 5), (6, 4)]\n",
      "11 [(5, 6), (6, 5)]\n",
      "12 [(6, 6)]\n"
     ]
    }
   ],
   "source": [
    "#Question 5\n",
    "d = {}\n",
    "for i in range(1,7):\n",
    "    for j in range(1,7):\n",
    "        if str(i+j) in d:\n",
    "            d[str(i+j)].append((i,j))\n",
    "        else:\n",
    "            d[str(i+j)]=[(i,j)]\n",
    "            \n",
    "\n",
    "for i in d:\n",
    "    print(i,d[i])\n",
    "        \n",
    "        "
   ]
  },
  {
   "cell_type": "code",
   "execution_count": null,
   "metadata": {},
   "outputs": [],
   "source": []
  }
 ],
 "metadata": {
  "kernelspec": {
   "display_name": "Python 3",
   "language": "python",
   "name": "python3"
  },
  "language_info": {
   "codemirror_mode": {
    "name": "ipython",
    "version": 3
   },
   "file_extension": ".py",
   "mimetype": "text/x-python",
   "name": "python",
   "nbconvert_exporter": "python",
   "pygments_lexer": "ipython3",
   "version": "3.7.4"
  }
 },
 "nbformat": 4,
 "nbformat_minor": 4
}
