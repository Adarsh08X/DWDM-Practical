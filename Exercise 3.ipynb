{
 "cells": [
  {
   "cell_type": "code",
   "execution_count": 28,
   "metadata": {},
   "outputs": [
    {
     "name": "stdout",
     "output_type": "stream",
     "text": [
      "Enter size of list= 4\n",
      "Enter sublist= 1 2 3\n",
      "Enter sublist= 4 5 6\n",
      "Enter sublist= 10 11 12\n",
      "Enter sublist= 7 8 9\n",
      "List with highest sum= [10, 11, 12]\n"
     ]
    }
   ],
   "source": [
    "#Question 1\n",
    "n = int(input(\"Enter size of list= \"))\n",
    "l = []\n",
    "for i in range(0,n):\n",
    "    lis = [int(item) for item in input(\"Enter sublist= \").split()]\n",
    "    l.append(lis)\n",
    "max_sum=0\n",
    "for i in l:\n",
    "    cur_sum = 0\n",
    "    for j in i:\n",
    "        cur_sum+=int(j)\n",
    "    if cur_sum > max_sum:\n",
    "        max_sum = cur_sum\n",
    "        ans = i\n",
    "    #print(cur_sum)\n",
    "print(\"List with highest sum=\",ans)"
   ]
  },
  {
   "cell_type": "code",
   "execution_count": 26,
   "metadata": {},
   "outputs": [
    {
     "name": "stdout",
     "output_type": "stream",
     "text": [
      "Yes List contains sublist\n"
     ]
    }
   ],
   "source": [
    "#Question 2\n",
    "l = [1,2,[1,2,6,7],\"adarsh\"]\n",
    "flag=0\n",
    "for i in l:\n",
    "    x = type(i)\n",
    "    if isinstance(i,list)==True:\n",
    "        print(\"Yes List contains sublist\")\n",
    "        flag=1\n",
    "        break\n",
    "if flag == 0:\n",
    "    print(\"No List doesn't consist sublist\")"
   ]
  },
  {
   "cell_type": "code",
   "execution_count": null,
   "metadata": {},
   "outputs": [],
   "source": []
  },
  {
   "cell_type": "code",
   "execution_count": null,
   "metadata": {},
   "outputs": [],
   "source": []
  }
 ],
 "metadata": {
  "kernelspec": {
   "display_name": "Python 3",
   "language": "python",
   "name": "python3"
  },
  "language_info": {
   "codemirror_mode": {
    "name": "ipython",
    "version": 3
   },
   "file_extension": ".py",
   "mimetype": "text/x-python",
   "name": "python",
   "nbconvert_exporter": "python",
   "pygments_lexer": "ipython3",
   "version": "3.7.4"
  }
 },
 "nbformat": 4,
 "nbformat_minor": 4
}
