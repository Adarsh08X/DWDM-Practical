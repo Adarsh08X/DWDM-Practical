{
 "cells": [
  {
   "cell_type": "code",
   "execution_count": 1,
   "metadata": {},
   "outputs": [
    {
     "name": "stdout",
     "output_type": "stream",
     "text": [
      "Enter input file name:vgj\n"
     ]
    },
    {
     "ename": "FileNotFoundError",
     "evalue": "[Errno 2] No such file or directory: 'vgj'",
     "output_type": "error",
     "traceback": [
      "\u001b[1;31m---------------------------------------------------------------------------\u001b[0m",
      "\u001b[1;31mFileNotFoundError\u001b[0m                         Traceback (most recent call last)",
      "\u001b[1;32m<ipython-input-1-4b4d46fd62da>\u001b[0m in \u001b[0;36m<module>\u001b[1;34m\u001b[0m\n\u001b[0;32m      7\u001b[0m \u001b[0minputfile\u001b[0m \u001b[1;33m=\u001b[0m \u001b[0minput\u001b[0m\u001b[1;33m(\u001b[0m\u001b[1;34m\"Enter input file name:\"\u001b[0m\u001b[1;33m)\u001b[0m\u001b[1;33m\u001b[0m\u001b[1;33m\u001b[0m\u001b[0m\n\u001b[0;32m      8\u001b[0m \u001b[1;33m\u001b[0m\u001b[0m\n\u001b[1;32m----> 9\u001b[1;33m \u001b[1;32mwith\u001b[0m \u001b[0mopen\u001b[0m\u001b[1;33m(\u001b[0m\u001b[0minputfile\u001b[0m\u001b[1;33m,\u001b[0m \u001b[1;34m'r'\u001b[0m\u001b[1;33m)\u001b[0m \u001b[1;32mas\u001b[0m \u001b[0mfin\u001b[0m\u001b[1;33m:\u001b[0m\u001b[1;33m\u001b[0m\u001b[1;33m\u001b[0m\u001b[0m\n\u001b[0m\u001b[0;32m     10\u001b[0m     \u001b[1;32mfor\u001b[0m \u001b[0mline\u001b[0m \u001b[1;32min\u001b[0m \u001b[0mfin\u001b[0m\u001b[1;33m.\u001b[0m\u001b[0mreadlines\u001b[0m\u001b[1;33m(\u001b[0m\u001b[1;33m)\u001b[0m\u001b[1;33m:\u001b[0m\u001b[1;33m\u001b[0m\u001b[1;33m\u001b[0m\u001b[0m\n\u001b[0;32m     11\u001b[0m \u001b[1;33m\u001b[0m\u001b[0m\n",
      "\u001b[1;31mFileNotFoundError\u001b[0m: [Errno 2] No such file or directory: 'vgj'"
     ]
    }
   ],
   "source": [
    "import random\n",
    "\n",
    "punct = (\".\", \";\", \"!\", \"?\", \",\")\n",
    "count = 0\n",
    "new_word = \"\"\n",
    "\n",
    "inputfile = input(\"Enter input file name:\")\n",
    "\n",
    "with open(inputfile, 'r') as fin:\n",
    "    for line in fin.readlines(): \n",
    "\n",
    "        for word in line.split(): \n",
    "\n",
    "            if len(word) > 3:\n",
    "                if word.endswith(punct):\n",
    "                    word1 = word[1:-2]\n",
    "                    word1 = random.sample(word1, len(word1))\n",
    "                    word1.insert(0, word[0])\n",
    "                    word1.append(word[-2])\n",
    "                    word1.append(word[-1])\n",
    "                else:\n",
    "                    word1 = word[1:-1]\n",
    "                    word1 = random.sample(word1, len(word1))\n",
    "                    word1.insert(0, word[0])\n",
    "                    word1.append(word[-1])\n",
    "                    new_word = new_word + ''.join(word1) + \" \"\n",
    "\n",
    "            else:\n",
    "                new_word = new_word + word + \" \"\n",
    "\n",
    "with open((inputfile[:-4] + \"Scrambled.txt\"), 'a+') as fout:\n",
    "    fout.write(new_word + \"\\n\")\n",
    "\n",
    "new_word = \"\"\n"
   ]
  },
  {
   "cell_type": "code",
   "execution_count": null,
   "metadata": {},
   "outputs": [],
   "source": []
  }
 ],
 "metadata": {
  "kernelspec": {
   "display_name": "Python 3",
   "language": "python",
   "name": "python3"
  },
  "language_info": {
   "codemirror_mode": {
    "name": "ipython",
    "version": 3
   },
   "file_extension": ".py",
   "mimetype": "text/x-python",
   "name": "python",
   "nbconvert_exporter": "python",
   "pygments_lexer": "ipython3",
   "version": "3.7.4"
  }
 },
 "nbformat": 4,
 "nbformat_minor": 4
}
