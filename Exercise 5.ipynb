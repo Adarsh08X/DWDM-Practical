{
 "cells": [
  {
   "cell_type": "code",
   "execution_count": 3,
   "metadata": {},
   "outputs": [
    {
     "name": "stdout",
     "output_type": "stream",
     "text": [
      "[  0  56  89  23  69 980 567]\n",
      "Zero Present\n"
     ]
    }
   ],
   "source": [
    "#Question 1\n",
    "import numpy as np\n",
    "  \n",
    "\n",
    "x = np.array([0, 56, 89,23, 69, 980,567])\n",
    "\n",
    "print(x)\n",
    "  \n",
    "if np.all(x):\n",
    "    print(\"No zero Present\")\n",
    "else :\n",
    "    print(\"Zero Present\")"
   ]
  },
  {
   "cell_type": "code",
   "execution_count": 5,
   "metadata": {},
   "outputs": [
    {
     "name": "stdout",
     "output_type": "stream",
     "text": [
      "Mean: 68.33333333333333\n",
      "Median: 67\n"
     ]
    }
   ],
   "source": [
    "#Question 2\n",
    "import numpy as np\n",
    "#Passing marks = 33\n",
    "marks = np.array([30, 25, 89,  23, 69, 98,67,52,35,18])\n",
    "new_marks=[]\n",
    "tot=0\n",
    "for i in marks:\n",
    "    if i>=33:\n",
    "        new_marks.append(i)\n",
    "        tot+=i\n",
    "mean=tot/len(new_marks)\n",
    "sorted(new_marks)\n",
    "median = new_marks[len(new_marks)//2]\n",
    "print(\"Mean:\",mean)\n",
    "print(\"Median:\",median)"
   ]
  },
  {
   "cell_type": "code",
   "execution_count": null,
   "metadata": {},
   "outputs": [],
   "source": []
  },
  {
   "cell_type": "code",
   "execution_count": 8,
   "metadata": {},
   "outputs": [
    {
     "name": "stdout",
     "output_type": "stream",
     "text": [
      "Sorted 2D Numpy Array\n",
      "[[21  7 23 14]\n",
      " [31 10 33  7]\n",
      " [11 12 13 22]]\n"
     ]
    }
   ],
   "source": [
    "#Question 4\n",
    "import numpy as np\n",
    "arr2D = np.array([[11, 12, 13, 22],\n",
    "                  [21, 7, 23, 14], \n",
    "                  [31, 10, 33, 7]])\n",
    "\n",
    "\n",
    "columnIndex = 1\n",
    "# Sort 2D numpy array by 2nd Column\n",
    "sortedArr = arr2D[arr2D[:,columnIndex].argsort()]\n",
    "print('Sorted 2D Numpy Array')\n",
    "print(sortedArr)"
   ]
  },
  {
   "cell_type": "code",
   "execution_count": null,
   "metadata": {},
   "outputs": [],
   "source": []
  }
 ],
 "metadata": {
  "kernelspec": {
   "display_name": "Python 3",
   "language": "python",
   "name": "python3"
  },
  "language_info": {
   "codemirror_mode": {
    "name": "ipython",
    "version": 3
   },
   "file_extension": ".py",
   "mimetype": "text/x-python",
   "name": "python",
   "nbconvert_exporter": "python",
   "pygments_lexer": "ipython3",
   "version": "3.7.4"
  }
 },
 "nbformat": 4,
 "nbformat_minor": 4
}
