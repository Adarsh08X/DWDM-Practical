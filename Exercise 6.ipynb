{
 "cells": [
  {
   "cell_type": "code",
   "execution_count": 9,
   "metadata": {},
   "outputs": [
    {
     "name": "stdout",
     "output_type": "stream",
     "text": [
      "[[0. 0. 1. 0.]\n",
      " [0. 0. 0. 1.]\n",
      " [0. 0. 1. 0.]\n",
      " [0. 0. 1. 0.]\n",
      " [0. 0. 1. 0.]\n",
      " [0. 1. 0. 0.]]\n"
     ]
    }
   ],
   "source": [
    "#Question 1\n",
    "import numpy as np\n",
    "a = np.array([2,3,2,2,2,1])\n",
    "b = np.zeros((a.size, a.max()+1))\n",
    "b[np.arange(a.size),a] = 1\n",
    "print(b)"
   ]
  },
  {
   "cell_type": "code",
   "execution_count": 12,
   "metadata": {},
   "outputs": [
    {
     "name": "stdout",
     "output_type": "stream",
     "text": [
      "[1. 2. 3. 5. 6. 7.]\n"
     ]
    }
   ],
   "source": [
    "#Question 2\n",
    "import numpy as np\n",
    "a = np.array([1,2,3,np.nan,5,6,7,np.nan])\n",
    "a = a[np.logical_not(np.isnan(a))]\n",
    "print(a)"
   ]
  },
  {
   "cell_type": "code",
   "execution_count": 16,
   "metadata": {},
   "outputs": [
    {
     "name": "stdout",
     "output_type": "stream",
     "text": [
      "[2, 5]\n"
     ]
    }
   ],
   "source": [
    "#Question 3\n",
    "import numpy as np\n",
    "a = np.array([1, 3, 7, 1, 2, 6, 0, 1])\n",
    "indexes=[]\n",
    "for i in range(0,len(a)):\n",
    "    if i>0 and i<len(a)-1 and a[i]>a[i-1] and a[i]>a[i+1]:\n",
    "        indexes.append(i)\n",
    "print(indexes)"
   ]
  },
  {
   "cell_type": "code",
   "execution_count": 21,
   "metadata": {},
   "outputs": [
    {
     "name": "stdout",
     "output_type": "stream",
     "text": [
      "Enter Window size= 4\n",
      "Enter stride size= 2\n"
     ]
    },
    {
     "data": {
      "text/plain": [
       "[[0, 1, 2, 3],\n",
       " [2, 3, 4, 5],\n",
       " [4, 5, 6, 7],\n",
       " [6, 7, 8, 9],\n",
       " [8, 9, 10, 11],\n",
       " [10, 11, 12, 13]]"
      ]
     },
     "execution_count": 21,
     "metadata": {},
     "output_type": "execute_result"
    }
   ],
   "source": [
    "#Question 4\n",
    "w = int(input(\"Enter Window size= \"))\n",
    "s = int(input(\"Enter stride size= \"))\n",
    "a = [0,1,2,3,4,5,6,7,8,9,10,11,12,13,14]\n",
    "array = []\n",
    "cur=0\n",
    "for i in range(0,12,2):\n",
    "    l=[]\n",
    "    for j in range(0,w):\n",
    "        l.append(a[i+j])\n",
    "    array.append(l)\n",
    "array\n",
    "    \n",
    "    "
   ]
  },
  {
   "cell_type": "code",
   "execution_count": null,
   "metadata": {},
   "outputs": [],
   "source": []
  }
 ],
 "metadata": {
  "kernelspec": {
   "display_name": "Python 3",
   "language": "python",
   "name": "python3"
  },
  "language_info": {
   "codemirror_mode": {
    "name": "ipython",
    "version": 3
   },
   "file_extension": ".py",
   "mimetype": "text/x-python",
   "name": "python",
   "nbconvert_exporter": "python",
   "pygments_lexer": "ipython3",
   "version": "3.7.4"
  }
 },
 "nbformat": 4,
 "nbformat_minor": 4
}
